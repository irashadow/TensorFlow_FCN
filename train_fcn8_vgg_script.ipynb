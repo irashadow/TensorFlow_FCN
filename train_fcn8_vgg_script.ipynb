{
 "cells": [
  {
   "cell_type": "code",
   "execution_count": 1,
   "metadata": {
    "collapsed": false
   },
   "outputs": [
    {
     "name": "stdout",
     "output_type": "stream",
     "text": [
      "(333, 500, 3)\n",
      "(333, 500, 2)\n"
     ]
    },
    {
     "data": {
      "text/plain": [
       "<matplotlib.image.AxesImage at 0x5a1a050>"
      ]
     },
     "execution_count": 1,
     "metadata": {},
     "output_type": "execute_result"
    },
    {
     "data": {
      "image/png": "[encoded data removed]",
      "text/plain": [
       "<matplotlib.figure.Figure at 0x578f8d0>"
      ]
     },
     "metadata": {},
     "output_type": "display_data"
    }
   ],
   "source": [
    "#!/usr/bin/env python\n",
    "\n",
    "from PIL import Image\n",
    "%matplotlib inline\n",
    "#%matplotlib qt\n",
    "\n",
    "import skimage\n",
    "import skimage.io\n",
    "import skimage.transform\n",
    "\n",
    "import os\n",
    "import scipy as scp\n",
    "import scipy.misc\n",
    "\n",
    "import numpy as np\n",
    "import tensorflow as tf\n",
    "\n",
    "import fcn8_vgg_train\n",
    "import utils\n",
    "\n",
    "import loss\n",
    "\n",
    "from tensorflow.python.framework import ops\n",
    "\n",
    "#os.environ['CUDA_VISIBLE_DEVICES'] = ''\n",
    "\n",
    "#img1 = skimage.io.imread(\"./test_data/tabby_cat.png\")\n",
    "img1 = skimage.io.imread(\"./test_data/19.jpg\")\n",
    "lbl1 = skimage.io.imread(\"./test_data/labels.png\")\n",
    "\n",
    "FLAGS = tf.app.flags.FLAGS\n",
    "\n",
    "from skimage import io, img_as_ubyte\n",
    "\n",
    "obj_array = np.zeros((lbl1.shape[0],lbl1.shape[1]))\n",
    "bg_array = np.zeros((lbl1.shape[0],lbl1.shape[1]))\n",
    "\n",
    "print lbl1.shape\n",
    "\n",
    "obj_array[lbl1[:,:,0] > 0] = 1\n",
    "bg_array[lbl1[:,:, 0] == 0] = 1\n",
    "\n",
    "lbl_in = np.array([obj_array, bg_array]).swapaxes(0,2).swapaxes(0,1)\n",
    "\n",
    "\n",
    "print lbl_in.shape\n",
    "io.imshow(lbl_in[:,:,1])\n"
   ]
  },
  {
   "cell_type": "code",
   "execution_count": 2,
   "metadata": {
    "collapsed": false
   },
   "outputs": [
    {
     "name": "stdout",
     "output_type": "stream",
     "text": [
      "npy file loaded\n"
     ]
    }
   ],
   "source": [
    "with tf.Session() as sess:\n",
    "    images = tf.placeholder(\"float\")\n",
    "    labels = tf.placeholder(\"float\")\n",
    "    feed_dict = {images: img1, labels: lbl_in}\n",
    "    \n",
    "    batch_images = tf.expand_dims(images, 0)\n",
    "    \n",
    "    batch_labels = tf.expand_dims(labels, 0)\n",
    "\n",
    "\n",
    "    #print type(batch_images)\n",
    "    \n",
    "    #print type(batch_labels)\n",
    "    \n",
    "    vgg_fcn = fcn8_vgg_train.FCN8VGG()\n",
    "    \n",
    "    \n",
    "    \n",
    "    "
   ]
  },
  {
   "cell_type": "code",
   "execution_count": 3,
   "metadata": {
    "collapsed": false
   },
   "outputs": [
    {
     "name": "stdout",
     "output_type": "stream",
     "text": [
      "Finished building Network.\n",
      "Running the Network\n"
     ]
    }
   ],
   "source": [
    "    with tf.name_scope(\"content_vgg\"):\n",
    "        #vgg_fcn.build(batch_images, debug=True)\n",
    "        \n",
    "        vgg_fcn.build(batch_images, train=True, num_classes=2, random_init_fc8=True)\n",
    "\n",
    "    print('Finished building Network.')\n",
    "\n",
    "    \n",
    "    init = tf.initialize_all_variables()\n",
    "    sess.run(tf.initialize_all_variables())\n",
    "\n",
    "    print('Running the Network')"
   ]
  },
  {
   "cell_type": "code",
   "execution_count": 4,
   "metadata": {
    "collapsed": false
   },
   "outputs": [],
   "source": [
    "    \n",
    "    \n",
    "    logits = vgg_fcn.upscore32\n",
    "    \n",
    "    labels = batch_labels\n",
    "\n",
    "    #down_color = utils.color_image(down[0])\n",
    "    #up_color = utils.color_image(up[0])\n",
    "\n",
    "    #scp.misc.imsave('fcn32_downsampled.png', down_color)\n",
    "    #scp.misc.imsave('fcn32_upsampled.png', up_color)"
   ]
  },
  {
   "cell_type": "code",
   "execution_count": 5,
   "metadata": {
    "collapsed": false
   },
   "outputs": [
    {
     "name": "stdout",
     "output_type": "stream",
     "text": [
      "12.2698\n"
     ]
    }
   ],
   "source": [
    "    \n",
    "    \n",
    "    loss = vgg_fcn.loss_study(logits, labels, 2, head=None)\n",
    "    \n",
    "    loss_get = sess.run(loss, feed_dict=feed_dict) \n",
    "    \n",
    "    print loss_get\n",
    " "
   ]
  },
  {
   "cell_type": "code",
   "execution_count": null,
   "metadata": {
    "collapsed": true
   },
   "outputs": [],
   "source": [
    "    \n",
    "    "
   ]
  },
  {
   "cell_type": "code",
   "execution_count": 6,
   "metadata": {
    "collapsed": false
   },
   "outputs": [
    {
     "name": "stdout",
     "output_type": "stream",
     "text": [
      "step 0, training accuracy 12.2736\n",
      "step 1, training accuracy 12.057\n",
      "step 2, training accuracy 11.8431\n",
      "step 3, training accuracy 11.6322\n",
      "step 4, training accuracy 11.4244\n",
      "step 5, training accuracy 11.2197\n",
      "step 6, training accuracy 11.0182\n",
      "step 7, training accuracy 10.8199\n",
      "step 8, training accuracy 10.6247\n",
      "step 9, training accuracy 10.4325\n",
      "step 10, training accuracy 10.2433\n",
      "step 11, training accuracy 10.0571\n",
      "step 12, training accuracy 9.87395\n",
      "step 13, training accuracy 9.69353\n",
      "step 14, training accuracy 9.5159\n",
      "step 15, training accuracy 9.3409\n",
      "step 16, training accuracy 9.16852\n",
      "step 17, training accuracy 8.99835\n",
      "step 18, training accuracy 8.83043\n",
      "step 19, training accuracy 8.66461\n",
      "step 20, training accuracy 8.50067\n",
      "step 21, training accuracy 8.33795\n",
      "step 22, training accuracy 8.17663\n",
      "step 23, training accuracy 8.01603\n",
      "step 24, training accuracy 7.85573\n",
      "step 25, training accuracy 7.69559\n",
      "step 26, training accuracy 7.5344\n",
      "step 27, training accuracy 7.37169\n",
      "step 28, training accuracy 7.20669\n",
      "step 29, training accuracy 7.04038\n",
      "step 30, training accuracy 6.88422\n",
      "step 31, training accuracy 6.77192\n",
      "step 32, training accuracy 6.65957\n",
      "step 33, training accuracy 6.52238\n",
      "step 34, training accuracy 6.38335\n",
      "step 35, training accuracy 6.25632\n",
      "step 36, training accuracy 6.13684\n",
      "step 37, training accuracy 6.02327\n",
      "step 38, training accuracy 5.91159\n",
      "step 39, training accuracy 5.80146\n",
      "step 40, training accuracy 5.69276\n",
      "step 41, training accuracy 5.58663\n",
      "step 42, training accuracy 5.48312\n",
      "step 43, training accuracy 5.38225\n",
      "step 44, training accuracy 5.28408\n",
      "step 45, training accuracy 5.18807\n",
      "step 46, training accuracy 5.09356\n",
      "step 47, training accuracy 5.00053\n",
      "step 48, training accuracy 4.90879\n",
      "step 49, training accuracy 4.81811\n",
      "step 50, training accuracy 4.72899\n",
      "step 51, training accuracy 4.64193\n",
      "step 52, training accuracy 4.55642\n",
      "step 53, training accuracy 4.47267\n",
      "step 54, training accuracy 4.39031\n",
      "step 55, training accuracy 4.30817\n",
      "step 56, training accuracy 4.22635\n",
      "step 57, training accuracy 4.14487\n",
      "step 58, training accuracy 4.06338\n",
      "step 59, training accuracy 3.98234\n",
      "step 60, training accuracy 3.90342\n",
      "step 61, training accuracy 3.82562\n",
      "step 62, training accuracy 3.74604\n",
      "step 63, training accuracy 3.6684\n",
      "step 64, training accuracy 3.5895\n",
      "step 65, training accuracy 3.50927\n",
      "step 66, training accuracy 3.42677\n",
      "step 67, training accuracy 3.34339\n",
      "step 68, training accuracy 3.26364\n",
      "step 69, training accuracy 3.20638\n",
      "step 70, training accuracy 3.13424\n",
      "step 71, training accuracy 3.078\n",
      "step 72, training accuracy 3.00102\n",
      "step 73, training accuracy 2.93339\n",
      "step 74, training accuracy 2.87739\n",
      "step 75, training accuracy 2.80683\n",
      "step 76, training accuracy 2.75086\n",
      "step 77, training accuracy 2.69109\n",
      "step 78, training accuracy 2.63531\n",
      "step 79, training accuracy 2.59282\n",
      "step 80, training accuracy 2.53153\n",
      "step 81, training accuracy 2.47553\n",
      "step 82, training accuracy 2.42576\n",
      "step 83, training accuracy 2.37622\n",
      "step 84, training accuracy 2.33127\n",
      "step 85, training accuracy 2.28271\n",
      "step 86, training accuracy 2.24035\n",
      "step 87, training accuracy 2.19455\n",
      "step 88, training accuracy 2.14937\n",
      "step 89, training accuracy 2.10385\n",
      "step 90, training accuracy 2.06524\n",
      "step 91, training accuracy 2.02563\n",
      "step 92, training accuracy 1.98353\n",
      "step 93, training accuracy 1.9429\n",
      "step 94, training accuracy 1.91665\n",
      "step 95, training accuracy 1.89329\n",
      "step 96, training accuracy 1.83026\n",
      "step 97, training accuracy 1.81457\n",
      "step 98, training accuracy 1.76305\n",
      "step 99, training accuracy 1.7375\n"
     ]
    }
   ],
   "source": [
    "    train_op = tf.train.AdamOptimizer(0.00005).minimize(loss)\n",
    "    # Add the ops to initialize variables.  These will include \n",
    "    # the optimizer slots added by AdamOptimizer().\n",
    "    \n",
    "    init_op = tf.initialize_all_variables()\n",
    "    sess.run(init_op)\n",
    "    \n",
    "    for i in range(100):\n",
    "      \n",
    "        loss_get = sess.run(loss, feed_dict=feed_dict) \n",
    "        \n",
    "        \n",
    "        print(\"step %d, training accuracy %g\"%(i, loss_get))\n",
    "        sess.run(train_op, feed_dict=feed_dict)"
   ]
  },
  {
   "cell_type": "code",
   "execution_count": 17,
   "metadata": {
    "collapsed": false
   },
   "outputs": [
    {
     "name": "stdout",
     "output_type": "stream",
     "text": [
      "step 0, training accuracy 0.0747245\n",
      "step 1, training accuracy 0.0720168\n",
      "step 2, training accuracy 0.0718566\n",
      "step 3, training accuracy 0.0724076\n",
      "step 4, training accuracy 0.0717721\n",
      "step 5, training accuracy 0.0740787\n",
      "step 6, training accuracy 0.0777244\n",
      "step 7, training accuracy 0.0725177\n",
      "step 8, training accuracy 0.0715202\n",
      "step 9, training accuracy 0.0712285\n",
      "step 10, training accuracy 0.0775024\n",
      "step 11, training accuracy 0.0707385\n",
      "step 12, training accuracy 0.0778318\n",
      "step 13, training accuracy 0.0757244\n",
      "step 14, training accuracy 0.0753323\n",
      "step 15, training accuracy 0.0783738\n",
      "step 16, training accuracy 0.0766112\n",
      "step 17, training accuracy 0.0838786\n",
      "step 18, training accuracy 0.0742568\n",
      "step 19, training accuracy 0.076266\n",
      "step 20, training accuracy 0.0732501\n",
      "step 21, training accuracy 0.0763539\n",
      "step 22, training accuracy 0.0706362\n",
      "step 23, training accuracy 0.0724975\n",
      "step 24, training accuracy 0.0713552\n",
      "step 25, training accuracy 0.0738456\n",
      "step 26, training accuracy 0.0698821\n",
      "step 27, training accuracy 0.0744666\n",
      "step 28, training accuracy 0.0789453\n",
      "step 29, training accuracy 0.0730063\n",
      "step 30, training accuracy 0.0738715\n",
      "step 31, training accuracy 0.070561\n",
      "step 32, training accuracy 0.0778562\n",
      "step 33, training accuracy 0.0759961\n",
      "step 34, training accuracy 0.074866\n",
      "step 35, training accuracy 0.0718145\n",
      "step 36, training accuracy 0.0774372\n",
      "step 37, training accuracy 0.0711584\n",
      "step 38, training accuracy 0.0741987\n",
      "step 39, training accuracy 0.0732523\n",
      "step 40, training accuracy 0.0701117\n",
      "step 41, training accuracy 0.0755799\n",
      "step 42, training accuracy 0.0711096\n",
      "step 43, training accuracy 0.072736\n",
      "step 44, training accuracy 0.0712345\n",
      "step 45, training accuracy 0.0733033\n",
      "step 46, training accuracy 0.0709882\n",
      "step 47, training accuracy 0.0785838\n",
      "step 48, training accuracy 0.0715791\n",
      "step 49, training accuracy 0.0722805\n",
      "step 50, training accuracy 0.0698008\n",
      "step 51, training accuracy 0.0740748\n",
      "step 52, training accuracy 0.0711228\n",
      "step 53, training accuracy 0.0715284\n",
      "step 54, training accuracy 0.0756972\n",
      "step 55, training accuracy 0.0708775\n",
      "step 56, training accuracy 0.0782746\n",
      "step 57, training accuracy 0.0685875\n",
      "step 58, training accuracy 0.0721419\n",
      "step 59, training accuracy 0.0703621\n",
      "step 60, training accuracy 0.075839\n",
      "step 61, training accuracy 0.0684434\n",
      "step 62, training accuracy 0.0725299\n",
      "step 63, training accuracy 0.0712577\n",
      "step 64, training accuracy 0.0734751\n",
      "step 65, training accuracy 0.0691951\n",
      "step 66, training accuracy 0.0803543\n",
      "step 67, training accuracy 0.0696767\n",
      "step 68, training accuracy 0.0778628\n",
      "step 69, training accuracy 0.0729659\n",
      "step 70, training accuracy 0.0754669\n",
      "step 71, training accuracy 0.0699725\n",
      "step 72, training accuracy 0.0790512\n",
      "step 73, training accuracy 0.0743527\n",
      "step 74, training accuracy 0.0710601\n",
      "step 75, training accuracy 0.0730947\n",
      "step 76, training accuracy 0.0707602\n",
      "step 77, training accuracy 0.0719625\n",
      "step 78, training accuracy 0.0715241\n",
      "step 79, training accuracy 0.0706103\n",
      "step 80, training accuracy 0.074312\n",
      "step 81, training accuracy 0.0681208\n",
      "step 82, training accuracy 0.0687178\n",
      "step 83, training accuracy 0.0681645\n",
      "step 84, training accuracy 0.0677982\n",
      "step 85, training accuracy 0.0696272\n",
      "step 86, training accuracy 0.0687518\n",
      "step 87, training accuracy 0.0682976\n",
      "step 88, training accuracy 0.0725616\n",
      "step 89, training accuracy 0.0670812\n",
      "step 90, training accuracy 0.0695062\n",
      "step 91, training accuracy 0.0686915\n",
      "step 92, training accuracy 0.0667892\n",
      "step 93, training accuracy 0.0680172\n",
      "step 94, training accuracy 0.0669181\n",
      "step 95, training accuracy 0.0686438\n",
      "step 96, training accuracy 0.0688651\n",
      "step 97, training accuracy 0.0742926\n",
      "step 98, training accuracy 0.0706309\n",
      "step 99, training accuracy 0.0682976\n",
      "step 100, training accuracy 0.0731287\n",
      "step 101, training accuracy 0.0674456\n",
      "step 102, training accuracy 0.0710741\n",
      "step 103, training accuracy 0.0680579\n",
      "step 104, training accuracy 0.0744874\n",
      "step 105, training accuracy 0.0700864\n",
      "step 106, training accuracy 0.069241\n",
      "step 107, training accuracy 0.0679391\n",
      "step 108, training accuracy 0.0703522\n",
      "step 109, training accuracy 0.066617\n",
      "step 110, training accuracy 0.0699735\n",
      "step 111, training accuracy 0.0720354\n",
      "step 112, training accuracy 0.0672828\n",
      "step 113, training accuracy 0.0691445\n",
      "step 114, training accuracy 0.0700602\n",
      "step 115, training accuracy 0.0666964\n",
      "step 116, training accuracy 0.0727679\n",
      "step 117, training accuracy 0.0683006\n",
      "step 118, training accuracy 0.0698858\n",
      "step 119, training accuracy 0.0662032\n",
      "step 120, training accuracy 0.0682418\n",
      "step 121, training accuracy 0.0694116\n",
      "step 122, training accuracy 0.0682311\n",
      "step 123, training accuracy 0.0665487\n",
      "step 124, training accuracy 0.0654959\n",
      "step 125, training accuracy 0.0660631\n",
      "step 126, training accuracy 0.0693862\n",
      "step 127, training accuracy 0.0658656\n",
      "step 128, training accuracy 0.0659562\n",
      "step 129, training accuracy 0.0665146\n",
      "step 130, training accuracy 0.0688648\n",
      "step 131, training accuracy 0.0726354\n",
      "step 132, training accuracy 0.067661\n",
      "step 133, training accuracy 0.0775727\n",
      "step 134, training accuracy 0.0690883\n",
      "step 135, training accuracy 0.0750398\n",
      "step 136, training accuracy 0.0664494\n",
      "step 137, training accuracy 0.0778434\n",
      "step 138, training accuracy 0.0724467\n",
      "step 139, training accuracy 0.0681179\n",
      "step 140, training accuracy 0.0741877\n",
      "step 141, training accuracy 0.0678298\n",
      "step 142, training accuracy 0.0745703\n",
      "step 143, training accuracy 0.0673523\n",
      "step 144, training accuracy 0.0706536\n",
      "step 145, training accuracy 0.0670208\n",
      "step 146, training accuracy 0.0751305\n",
      "step 147, training accuracy 0.0662684\n",
      "step 148, training accuracy 0.0790188\n",
      "step 149, training accuracy 0.0680416\n",
      "step 150, training accuracy 0.075159\n",
      "step 151, training accuracy 0.075656\n",
      "step 152, training accuracy 0.0687514\n",
      "step 153, training accuracy 0.0692804\n",
      "step 154, training accuracy 0.0679706\n",
      "step 155, training accuracy 0.0739352\n",
      "step 156, training accuracy 0.0688627\n",
      "step 157, training accuracy 0.0711647\n",
      "step 158, training accuracy 0.0742466\n",
      "step 159, training accuracy 0.0691294\n",
      "step 160, training accuracy 0.068555\n",
      "step 161, training accuracy 0.073322\n",
      "step 162, training accuracy 0.0708902\n",
      "step 163, training accuracy 0.0678416\n",
      "step 164, training accuracy 0.0741889\n",
      "step 165, training accuracy 0.0711925\n",
      "step 166, training accuracy 0.0799763\n",
      "step 167, training accuracy 0.0708443\n",
      "step 168, training accuracy 0.0765503\n",
      "step 169, training accuracy 0.0705314\n",
      "step 170, training accuracy 0.0682046\n",
      "step 171, training accuracy 0.0725229\n",
      "step 172, training accuracy 0.0707186\n",
      "step 173, training accuracy 0.0675533\n",
      "step 174, training accuracy 0.0736521\n",
      "step 175, training accuracy 0.0665194\n",
      "step 176, training accuracy 0.0697414\n",
      "step 177, training accuracy 0.066671\n",
      "step 178, training accuracy 0.0735521\n",
      "step 179, training accuracy 0.0657187\n",
      "step 180, training accuracy 0.0718168\n",
      "step 181, training accuracy 0.068294\n",
      "step 182, training accuracy 0.0683485\n",
      "step 183, training accuracy 0.0674215\n",
      "step 184, training accuracy 0.0676094\n",
      "step 185, training accuracy 0.0658499\n",
      "step 186, training accuracy 0.0657423\n",
      "step 187, training accuracy 0.0658616\n",
      "step 188, training accuracy 0.0649976\n",
      "step 189, training accuracy 0.0657173\n",
      "step 190, training accuracy 0.0652788\n",
      "step 191, training accuracy 0.0669434\n",
      "step 192, training accuracy 0.0644065\n",
      "step 193, training accuracy 0.0657676\n",
      "step 194, training accuracy 0.0653909\n",
      "step 195, training accuracy 0.0643019\n",
      "step 196, training accuracy 0.0642981\n",
      "step 197, training accuracy 0.0649089\n",
      "step 198, training accuracy 0.0703552\n",
      "step 199, training accuracy 0.066712\n",
      "step 200, training accuracy 0.0643294\n",
      "step 201, training accuracy 0.0643761\n",
      "step 202, training accuracy 0.0646207\n",
      "step 203, training accuracy 0.0648839\n",
      "step 204, training accuracy 0.0642055\n",
      "step 205, training accuracy 0.0657803\n",
      "step 206, training accuracy 0.0661377\n",
      "step 207, training accuracy 0.0651914\n",
      "step 208, training accuracy 0.0645187\n",
      "step 209, training accuracy 0.067739\n",
      "step 210, training accuracy 0.0632558\n",
      "step 211, training accuracy 0.0641838\n",
      "step 212, training accuracy 0.0648542\n",
      "step 213, training accuracy 0.0644899\n",
      "step 214, training accuracy 0.0718841\n",
      "step 215, training accuracy 0.0657796\n",
      "step 216, training accuracy 0.0664429\n",
      "step 217, training accuracy 0.0654465\n",
      "step 218, training accuracy 0.0679885\n",
      "step 219, training accuracy 0.0694216\n",
      "step 220, training accuracy 0.0664744\n",
      "step 221, training accuracy 0.0701197\n",
      "step 222, training accuracy 0.0642609\n",
      "step 223, training accuracy 0.0665707\n",
      "step 224, training accuracy 0.0686076\n",
      "step 225, training accuracy 0.0672474\n",
      "step 226, training accuracy 0.0676163\n",
      "step 227, training accuracy 0.0685339\n",
      "step 228, training accuracy 0.0653447\n",
      "step 229, training accuracy 0.0655897\n",
      "step 230, training accuracy 0.0685166\n",
      "step 231, training accuracy 0.0669883\n",
      "step 232, training accuracy 0.0652927\n",
      "step 233, training accuracy 0.0648286\n",
      "step 234, training accuracy 0.0641617\n",
      "step 235, training accuracy 0.0632887\n",
      "step 236, training accuracy 0.0641143\n",
      "step 237, training accuracy 0.0642743\n",
      "step 238, training accuracy 0.0633061\n",
      "step 239, training accuracy 0.0633476\n",
      "step 240, training accuracy 0.06447\n",
      "step 241, training accuracy 0.0647891\n",
      "step 242, training accuracy 0.0624176\n",
      "step 243, training accuracy 0.0639883\n",
      "step 244, training accuracy 0.0634851\n",
      "step 245, training accuracy 0.0624455\n",
      "step 246, training accuracy 0.063437\n",
      "step 247, training accuracy 0.0648795\n",
      "step 248, training accuracy 0.0631026\n",
      "step 249, training accuracy 0.0634995\n",
      "step 250, training accuracy 0.0632337\n",
      "step 251, training accuracy 0.0634162\n",
      "step 252, training accuracy 0.0642054\n",
      "step 253, training accuracy 0.0641284\n",
      "step 254, training accuracy 0.0622733\n",
      "step 255, training accuracy 0.0655742\n",
      "step 256, training accuracy 0.0659106\n",
      "step 257, training accuracy 0.0619379\n",
      "step 258, training accuracy 0.0634962\n",
      "step 259, training accuracy 0.0628377\n",
      "step 260, training accuracy 0.0679448\n",
      "step 261, training accuracy 0.0660201\n",
      "step 262, training accuracy 0.0638856\n",
      "step 263, training accuracy 0.0696351\n",
      "step 264, training accuracy 0.0639335\n",
      "step 265, training accuracy 0.0658786\n",
      "step 266, training accuracy 0.0657253\n",
      "step 267, training accuracy 0.0710165\n",
      "step 268, training accuracy 0.0655009\n",
      "step 269, training accuracy 0.0716183\n",
      "step 270, training accuracy 0.0650877\n",
      "step 271, training accuracy 0.0748029\n",
      "step 272, training accuracy 0.0633394\n",
      "step 273, training accuracy 0.0685343\n",
      "step 274, training accuracy 0.0646438\n",
      "step 275, training accuracy 0.0652397\n",
      "step 276, training accuracy 0.0656409\n",
      "step 277, training accuracy 0.0636902\n",
      "step 278, training accuracy 0.0656217\n",
      "step 279, training accuracy 0.0628165\n",
      "step 280, training accuracy 0.0692396\n",
      "step 281, training accuracy 0.0631034\n",
      "step 282, training accuracy 0.0653098\n",
      "step 283, training accuracy 0.0648411\n",
      "step 284, training accuracy 0.0647143\n",
      "step 285, training accuracy 0.0644262\n",
      "step 286, training accuracy 0.0634993\n",
      "step 287, training accuracy 0.0626579\n",
      "step 288, training accuracy 0.0636483\n",
      "step 289, training accuracy 0.063671\n",
      "step 290, training accuracy 0.061991\n",
      "step 291, training accuracy 0.0670232\n",
      "step 292, training accuracy 0.0610802\n",
      "step 293, training accuracy 0.0698989\n",
      "step 294, training accuracy 0.0621917\n",
      "step 295, training accuracy 0.0625038\n",
      "step 296, training accuracy 0.0640684\n",
      "step 297, training accuracy 0.0634678\n",
      "step 298, training accuracy 0.0634858\n",
      "step 299, training accuracy 0.0667482\n",
      "step 300, training accuracy 0.0635248\n",
      "step 301, training accuracy 0.0648626\n",
      "step 302, training accuracy 0.0684547\n",
      "step 303, training accuracy 0.0631119\n",
      "step 304, training accuracy 0.0642554\n",
      "step 305, training accuracy 0.0634145\n",
      "step 306, training accuracy 0.0625336\n",
      "step 307, training accuracy 0.0657228\n",
      "step 308, training accuracy 0.0642546\n",
      "step 309, training accuracy 0.0624323\n",
      "step 310, training accuracy 0.0674616\n",
      "step 311, training accuracy 0.0631353\n",
      "step 312, training accuracy 0.0672767\n",
      "step 313, training accuracy 0.0647295\n",
      "step 314, training accuracy 0.0665163\n",
      "step 315, training accuracy 0.0631415\n",
      "step 316, training accuracy 0.0647025\n",
      "step 317, training accuracy 0.062213\n",
      "step 318, training accuracy 0.0664465\n",
      "step 319, training accuracy 0.062561\n",
      "step 320, training accuracy 0.0622329\n",
      "step 321, training accuracy 0.0614542\n",
      "step 322, training accuracy 0.0654002\n",
      "step 323, training accuracy 0.0628535\n",
      "step 324, training accuracy 0.0650493\n",
      "step 325, training accuracy 0.0637813\n",
      "step 326, training accuracy 0.0650735\n",
      "step 327, training accuracy 0.0644758\n",
      "step 328, training accuracy 0.0657639\n",
      "step 329, training accuracy 0.0641689\n",
      "step 330, training accuracy 0.0665744\n",
      "step 331, training accuracy 0.0631556\n",
      "step 332, training accuracy 0.0653843\n",
      "step 333, training accuracy 0.0618651\n",
      "step 334, training accuracy 0.0658745\n",
      "step 335, training accuracy 0.0650241\n",
      "step 336, training accuracy 0.0629515\n",
      "step 337, training accuracy 0.0629206\n",
      "step 338, training accuracy 0.0627309\n",
      "step 339, training accuracy 0.0656316\n",
      "step 340, training accuracy 0.0615657\n",
      "step 341, training accuracy 0.0643416\n",
      "step 342, training accuracy 0.0623382\n",
      "step 343, training accuracy 0.0633843\n",
      "step 344, training accuracy 0.0619419\n",
      "step 345, training accuracy 0.0622726\n",
      "step 346, training accuracy 0.062363\n",
      "step 347, training accuracy 0.0699203\n",
      "step 348, training accuracy 0.0626355\n",
      "step 349, training accuracy 0.0655895\n",
      "step 350, training accuracy 0.061984\n",
      "step 351, training accuracy 0.0648269\n",
      "step 352, training accuracy 0.0660922\n",
      "step 353, training accuracy 0.0636476\n",
      "step 354, training accuracy 0.0617566\n",
      "step 355, training accuracy 0.0626823\n",
      "step 356, training accuracy 0.0646625\n",
      "step 357, training accuracy 0.0615135\n",
      "step 358, training accuracy 0.0640899\n",
      "step 359, training accuracy 0.0617439\n",
      "step 360, training accuracy 0.0615173\n",
      "step 361, training accuracy 0.0628804\n",
      "step 362, training accuracy 0.0640113\n",
      "step 363, training accuracy 0.0611032\n",
      "step 364, training accuracy 0.0658771\n",
      "step 365, training accuracy 0.0656595\n",
      "step 366, training accuracy 0.0659374\n",
      "step 367, training accuracy 0.0597978\n",
      "step 368, training accuracy 0.0657575\n",
      "step 369, training accuracy 0.0643362\n",
      "step 370, training accuracy 0.0652797\n",
      "step 371, training accuracy 0.0672887\n",
      "step 372, training accuracy 0.0635443\n",
      "step 373, training accuracy 0.0654363\n",
      "step 374, training accuracy 0.0661297\n",
      "step 375, training accuracy 0.0649796\n",
      "step 376, training accuracy 0.0644627\n",
      "step 377, training accuracy 0.0671783\n",
      "step 378, training accuracy 0.0641325\n",
      "step 379, training accuracy 0.0614691\n",
      "step 380, training accuracy 0.0633238\n",
      "step 381, training accuracy 0.0630781\n",
      "step 382, training accuracy 0.0631719\n",
      "step 383, training accuracy 0.0630476\n",
      "step 384, training accuracy 0.0649125\n",
      "step 385, training accuracy 0.0614628\n",
      "step 386, training accuracy 0.0611367\n",
      "step 387, training accuracy 0.0623522\n",
      "step 388, training accuracy 0.0618451\n",
      "step 389, training accuracy 0.0616538\n",
      "step 390, training accuracy 0.0605467\n",
      "step 391, training accuracy 0.0633329\n",
      "step 392, training accuracy 0.0626089\n",
      "step 393, training accuracy 0.062164\n",
      "step 394, training accuracy 0.067993\n",
      "step 395, training accuracy 0.0639542\n",
      "step 396, training accuracy 0.0638961\n",
      "step 397, training accuracy 0.0612778\n",
      "step 398, training accuracy 0.0652787\n",
      "step 399, training accuracy 0.0614136\n",
      "step 400, training accuracy 0.0678967\n",
      "step 401, training accuracy 0.0617833\n",
      "step 402, training accuracy 0.0638176\n",
      "step 403, training accuracy 0.0612688\n",
      "step 404, training accuracy 0.0646709\n",
      "step 405, training accuracy 0.0621302\n",
      "step 406, training accuracy 0.0672273\n",
      "step 407, training accuracy 0.0620106\n",
      "step 408, training accuracy 0.0639142\n",
      "step 409, training accuracy 0.0620801\n",
      "step 410, training accuracy 0.0621559\n",
      "step 411, training accuracy 0.0615496\n",
      "step 412, training accuracy 0.0611371\n",
      "step 413, training accuracy 0.0620058\n",
      "step 414, training accuracy 0.0601789\n",
      "step 415, training accuracy 0.0612968\n",
      "step 416, training accuracy 0.0600937\n",
      "step 417, training accuracy 0.0611232\n",
      "step 418, training accuracy 0.0606679\n",
      "step 419, training accuracy 0.0607554\n",
      "step 420, training accuracy 0.059194\n",
      "step 421, training accuracy 0.0611077\n",
      "step 422, training accuracy 0.0618375\n",
      "step 423, training accuracy 0.0604977\n",
      "step 424, training accuracy 0.0631004\n",
      "step 425, training accuracy 0.0614763\n",
      "step 426, training accuracy 0.0663636\n",
      "step 427, training accuracy 0.065671\n",
      "step 428, training accuracy 0.064199\n",
      "step 429, training accuracy 0.0647803\n",
      "step 430, training accuracy 0.061812\n",
      "step 431, training accuracy 0.0630054\n",
      "step 432, training accuracy 0.061404\n",
      "step 433, training accuracy 0.0592641\n",
      "step 434, training accuracy 0.0615211\n",
      "step 435, training accuracy 0.0599422\n",
      "step 436, training accuracy 0.0636926\n",
      "step 437, training accuracy 0.0601464\n",
      "step 438, training accuracy 0.06095\n",
      "step 439, training accuracy 0.0599553\n",
      "step 440, training accuracy 0.0600901\n",
      "step 441, training accuracy 0.0611221\n",
      "step 442, training accuracy 0.0632975\n",
      "step 443, training accuracy 0.0604251\n",
      "step 444, training accuracy 0.0637019\n",
      "step 445, training accuracy 0.0611787\n",
      "step 446, training accuracy 0.0626112\n",
      "step 447, training accuracy 0.0661183\n",
      "step 448, training accuracy 0.0611817\n",
      "step 449, training accuracy 0.0660146\n",
      "step 450, training accuracy 0.0596282\n",
      "step 451, training accuracy 0.0610811\n",
      "step 452, training accuracy 0.063094\n",
      "step 453, training accuracy 0.0598964\n",
      "step 454, training accuracy 0.0626493\n",
      "step 455, training accuracy 0.0615528\n",
      "step 456, training accuracy 0.0606991\n",
      "step 457, training accuracy 0.0617111\n",
      "step 458, training accuracy 0.0650235\n",
      "step 459, training accuracy 0.0615658\n",
      "step 460, training accuracy 0.0616955\n",
      "step 461, training accuracy 0.061982\n",
      "step 462, training accuracy 0.0599039\n",
      "step 463, training accuracy 0.0647706\n",
      "step 464, training accuracy 0.0604166\n",
      "step 465, training accuracy 0.0601014\n",
      "step 466, training accuracy 0.0616022\n",
      "step 467, training accuracy 0.0618049\n",
      "step 468, training accuracy 0.058992\n",
      "step 469, training accuracy 0.0596996\n",
      "step 470, training accuracy 0.0604491\n",
      "step 471, training accuracy 0.0596226\n",
      "step 472, training accuracy 0.0594008\n",
      "step 473, training accuracy 0.0592784\n",
      "step 474, training accuracy 0.0602197\n",
      "step 475, training accuracy 0.0591395\n",
      "step 476, training accuracy 0.060293\n",
      "step 477, training accuracy 0.0601337\n",
      "step 478, training accuracy 0.0584549\n",
      "step 479, training accuracy 0.0591456\n",
      "step 480, training accuracy 0.0591801\n",
      "step 481, training accuracy 0.0600886\n",
      "step 482, training accuracy 0.0584339\n",
      "step 483, training accuracy 0.0586043\n",
      "step 484, training accuracy 0.0583794\n",
      "step 485, training accuracy 0.0599584\n",
      "step 486, training accuracy 0.057238\n",
      "step 487, training accuracy 0.0603744\n",
      "step 488, training accuracy 0.0588798\n",
      "step 489, training accuracy 0.0589182\n",
      "step 490, training accuracy 0.0592779\n",
      "step 491, training accuracy 0.0605474\n",
      "step 492, training accuracy 0.0593422\n",
      "step 493, training accuracy 0.0601422\n",
      "step 494, training accuracy 0.0608739\n",
      "step 495, training accuracy 0.0592518\n",
      "step 496, training accuracy 0.0588606\n",
      "step 497, training accuracy 0.0599164\n",
      "step 498, training accuracy 0.0664997\n",
      "step 499, training accuracy 0.0657896\n"
     ]
    }
   ],
   "source": [
    "    for i in range(500):\n",
    "      \n",
    "        loss_get = sess.run(loss, feed_dict=feed_dict) \n",
    "        \n",
    "        \n",
    "        print(\"step %d, training accuracy %g\"%(i, loss_get))\n",
    "        sess.run(train_op, feed_dict=feed_dict)  \n",
    "    \n",
    "#logits_get, labels_get, cross_entropy_get = sess.run([vgg_fcn.logits, vgg_fcn.labels, vgg_fcn.cross_entropy]) \n",
    "    \n",
    "\n",
    "#print logits_get.shape \n",
    "#print labels_get.shape\n",
    "#print cross_entropy_get.shape"
   ]
  },
  {
   "cell_type": "code",
   "execution_count": null,
   "metadata": {
    "collapsed": false
   },
   "outputs": [],
   "source": []
  },
  {
   "cell_type": "code",
   "execution_count": 14,
   "metadata": {
    "collapsed": false
   },
   "outputs": [],
   "source": [
    "#print up.shape\n",
    "#print labels_get.shape"
   ]
  },
  {
   "cell_type": "code",
   "execution_count": 18,
   "metadata": {
    "collapsed": false
   },
   "outputs": [],
   "source": [
    "#check project image in each layer\n",
    "\n",
    "#v = sess.run(vgg_fcn.conv5_1, feed_dict=feed_dict) \n",
    "v = sess.run(vgg_fcn.pool2, feed_dict=feed_dict) "
   ]
  },
  {
   "cell_type": "code",
   "execution_count": 19,
   "metadata": {
    "collapsed": false
   },
   "outputs": [
    {
     "name": "stdout",
     "output_type": "stream",
     "text": [
      "<type 'numpy.ndarray'>\n",
      "(1, 84, 125, 128)\n",
      "(84, 125)\n"
     ]
    }
   ],
   "source": [
    "print type(v)\n",
    "print v.shape\n",
    "v_temp = v[0,:,:,10]\n",
    "print v_temp.shape"
   ]
  },
  {
   "cell_type": "code",
   "execution_count": 20,
   "metadata": {
    "collapsed": false
   },
   "outputs": [
    {
     "name": "stderr",
     "output_type": "stream",
     "text": [
      "/home/irashadow/env_TensorFlow/lib/python2.7/site-packages/skimage/io/_plugins/matplotlib_plugin.py:77: UserWarning: Float image out of standard range; displaying image with stretched contrast.\n",
      "  warn(\"Float image out of standard range; displaying \"\n"
     ]
    },
    {
     "data": {
      "text/plain": [
       "<matplotlib.image.AxesImage at 0xbcb3c50>"
      ]
     },
     "execution_count": 20,
     "metadata": {},
     "output_type": "execute_result"
    },
    {
     "data": {
      "image/png": "[encoded data removed]",
      "text/plain": [
       "<matplotlib.figure.Figure at 0x8dd1c10>"
      ]
     },
     "metadata": {},
     "output_type": "display_data"
    }
   ],
   "source": [
    "from PIL import Image\n",
    "%matplotlib inline\n",
    "#%matplotlib qt\n",
    "\n",
    "from skimage import io, img_as_ubyte\n",
    "io.imshow(v_temp)"
   ]
  },
  {
   "cell_type": "code",
   "execution_count": 21,
   "metadata": {
    "collapsed": false
   },
   "outputs": [
    {
     "name": "stdout",
     "output_type": "stream",
     "text": [
      "<type 'numpy.ndarray'>\n",
      "(1, 11, 16, 2)\n",
      "(11, 16)\n"
     ]
    },
    {
     "data": {
      "text/plain": [
       "<matplotlib.image.AxesImage at 0xbab74d0>"
      ]
     },
     "execution_count": 21,
     "metadata": {},
     "output_type": "execute_result"
    },
    {
     "data": {
      "image/png": "[encoded data removed]",
      "text/plain": [
       "<matplotlib.figure.Figure at 0xbc85250>"
      ]
     },
     "metadata": {},
     "output_type": "display_data"
    }
   ],
   "source": [
    "#check project image in each layer\n",
    "\n",
    "w = sess.run(vgg_fcn.score_fr, feed_dict=feed_dict) \n",
    "print type(w)\n",
    "print w.shape\n",
    "w_temp = w[0,:,:,1]\n",
    "print w_temp.shape\n",
    "io.imshow(w_temp)\n"
   ]
  },
  {
   "cell_type": "code",
   "execution_count": 22,
   "metadata": {
    "collapsed": false
   },
   "outputs": [
    {
     "name": "stdout",
     "output_type": "stream",
     "text": [
      "<type 'numpy.ndarray'>\n",
      "(1, 21, 32, 2)\n",
      "(21, 32)\n"
     ]
    },
    {
     "data": {
      "text/plain": [
       "<matplotlib.image.AxesImage at 0xc95fd90>"
      ]
     },
     "execution_count": 22,
     "metadata": {},
     "output_type": "execute_result"
    },
    {
     "data": {
      "image/png": "[encoded data removed]",
      "text/plain": [
       "<matplotlib.figure.Figure at 0xc1ad8d0>"
      ]
     },
     "metadata": {},
     "output_type": "display_data"
    }
   ],
   "source": [
    "#check project image in each layer\n",
    "w = sess.run(vgg_fcn.upscore2, feed_dict=feed_dict) \n",
    "print type(w)\n",
    "print w.shape\n",
    "w_temp = w[0,:,:,0]\n",
    "print w_temp.shape\n",
    "io.imshow(w_temp)"
   ]
  },
  {
   "cell_type": "code",
   "execution_count": 23,
   "metadata": {
    "collapsed": false
   },
   "outputs": [
    {
     "name": "stdout",
     "output_type": "stream",
     "text": [
      "<type 'numpy.ndarray'>\n",
      "(1, 42, 63, 2)\n",
      "(42, 63)\n"
     ]
    },
    {
     "data": {
      "text/plain": [
       "<matplotlib.image.AxesImage at 0xcd70b90>"
      ]
     },
     "execution_count": 23,
     "metadata": {},
     "output_type": "execute_result"
    },
    {
     "data": {
      "image/png": "[encoded data removed]",
      "text/plain": [
       "<matplotlib.figure.Figure at 0xcac5cd0>"
      ]
     },
     "metadata": {},
     "output_type": "display_data"
    }
   ],
   "source": [
    "#check project image in each layer\n",
    "w = sess.run(vgg_fcn.upscore4, feed_dict=feed_dict) \n",
    "print type(w)\n",
    "print w.shape\n",
    "w_temp = w[0,:,:,0]\n",
    "print w_temp.shape\n",
    "io.imshow(w_temp)"
   ]
  },
  {
   "cell_type": "code",
   "execution_count": 35,
   "metadata": {
    "collapsed": false
   },
   "outputs": [
    {
     "name": "stdout",
     "output_type": "stream",
     "text": [
      "<type 'numpy.ndarray'>\n",
      "(1, 333, 500, 2)\n",
      "(333, 500)\n"
     ]
    },
    {
     "data": {
      "image/png": "[encoded data removed]",
      "text/plain": [
       "<matplotlib.figure.Figure at 0xf741ad0>"
      ]
     },
     "metadata": {},
     "output_type": "display_data"
    }
   ],
   "source": [
    "#check project image in each layer\n",
    "w = sess.run(vgg_fcn.upscore32, feed_dict=feed_dict) \n",
    "print type(w)\n",
    "print w.shape\n",
    "w_temp = w[0,:,:,0]\n",
    "print w_temp.shape\n",
    "io.imshow(w_temp)\n",
    " \n",
    "w_norm = ((w_temp-w_temp.min())/(w_temp.max()-w_temp.min()))    \n",
    "\n",
    "img = Image.fromarray(img_as_ubyte(w_norm)).convert('RGB')\n",
    "img.save('./pred_up_8x_1000_loops.png', \"PNG\", quality=80) "
   ]
  },
  {
   "cell_type": "code",
   "execution_count": 25,
   "metadata": {
    "collapsed": false
   },
   "outputs": [
    {
     "name": "stdout",
     "output_type": "stream",
     "text": [
      "<type 'numpy.ndarray'>\n",
      "(1, 333, 500)\n",
      "(333, 500)\n"
     ]
    },
    {
     "data": {
      "image/png": "[encoded data removed]",
      "text/plain": [
       "<matplotlib.figure.Figure at 0xcea9390>"
      ]
     },
     "metadata": {},
     "output_type": "display_data"
    }
   ],
   "source": [
    "#check project image in each layer\n",
    "w = sess.run(vgg_fcn.pred_up, feed_dict=feed_dict) \n",
    "print type(w)\n",
    "print w.shape\n",
    "w_temp = w[0,:,:]\n",
    "print w_temp.shape\n",
    "io.imshow(w_temp)\n",
    "\n",
    "img = Image.fromarray(img_as_ubyte(255-w_temp*255)).convert('RGB')\n",
    "img.save('./pred_up_8x_1000_loops.png', \"PNG\", quality=80) "
   ]
  },
  {
   "cell_type": "code",
   "execution_count": 27,
   "metadata": {
    "collapsed": false
   },
   "outputs": [
    {
     "name": "stdout",
     "output_type": "stream",
     "text": [
      "(166500, 2)\n",
      "[-2.65825844  2.78694844]\n"
     ]
    }
   ],
   "source": [
    "logits_reshape = np.reshape(w, (-1, 2))\n",
    "\n",
    "\n",
    "print logits_reshape.shape\n",
    "\n",
    "sub_data = logits_reshape[10,:]\n",
    "print sub_data"
   ]
  },
  {
   "cell_type": "code",
   "execution_count": 58,
   "metadata": {
    "collapsed": false
   },
   "outputs": [
    {
     "name": "stdout",
     "output_type": "stream",
     "text": [
      "[ inf  inf]\n",
      "[ nan  nan]\n"
     ]
    },
    {
     "name": "stderr",
     "output_type": "stream",
     "text": [
      "/home/irashadow/env_TensorFlow/lib/python2.7/site-packages/ipykernel/__main__.py:1: RuntimeWarning: overflow encountered in exp\n",
      "  if __name__ == '__main__':\n",
      "/home/irashadow/env_TensorFlow/lib/python2.7/site-packages/ipykernel/__main__.py:3: RuntimeWarning: overflow encountered in exp\n",
      "  app.launch_new_instance()\n",
      "/home/irashadow/env_TensorFlow/lib/python2.7/site-packages/ipykernel/__main__.py:5: RuntimeWarning: overflow encountered in exp\n",
      "/home/irashadow/env_TensorFlow/lib/python2.7/site-packages/ipykernel/__main__.py:5: RuntimeWarning: invalid value encountered in divide\n"
     ]
    }
   ],
   "source": [
    "print np.exp(sub_data)\n",
    "\n",
    "temp_sum = np.sum(np.exp(sub_data))\n",
    "\n",
    "print np.exp(sub_data)/temp_sum"
   ]
  },
  {
   "cell_type": "code",
   "execution_count": null,
   "metadata": {
    "collapsed": true
   },
   "outputs": [],
   "source": []
  },
  {
   "cell_type": "code",
   "execution_count": 11,
   "metadata": {
    "collapsed": false
   },
   "outputs": [],
   "source": [
    "arr=np.array([[[ 6,  9,  4],\n",
    "        [ 5,  2,  1],\n",
    "        [10, 15, 30]],\n",
    "\n",
    "       [[ 9,  0,  1],\n",
    "        [ 4,  6,  4],\n",
    "        [ 8,  3,  9]],\n",
    "\n",
    "       [[ 6,  7,  4],\n",
    "        [ 0,  1,  6],\n",
    "        [ 4,  0,  1]]])"
   ]
  },
  {
   "cell_type": "code",
   "execution_count": 12,
   "metadata": {
    "collapsed": false
   },
   "outputs": [
    {
     "name": "stdout",
     "output_type": "stream",
     "text": [
      "[[[ 6  9  4]\n",
      "  [ 5  2  1]\n",
      "  [10 15 30]]\n",
      "\n",
      " [[ 9  0  1]\n",
      "  [ 4  6  4]\n",
      "  [ 8  3  9]]\n",
      "\n",
      " [[ 6  7  4]\n",
      "  [ 0  1  6]\n",
      "  [ 4  0  1]]]\n"
     ]
    }
   ],
   "source": [
    "print arr"
   ]
  },
  {
   "cell_type": "code",
   "execution_count": 21,
   "metadata": {
    "collapsed": false
   },
   "outputs": [],
   "source": [
    "coord = np.where((arr[:,:,0]==10) & (arr[:,:,1]==15) & (arr[:,:,2]==30))"
   ]
  },
  {
   "cell_type": "code",
   "execution_count": 22,
   "metadata": {
    "collapsed": false
   },
   "outputs": [
    {
     "name": "stdout",
     "output_type": "stream",
     "text": [
      "(array([0]), array([2]))\n"
     ]
    }
   ],
   "source": [
    "print coord"
   ]
  },
  {
   "cell_type": "code",
   "execution_count": null,
   "metadata": {
    "collapsed": true
   },
   "outputs": [],
   "source": []
  }
 ],
 "metadata": {
  "kernelspec": {
   "display_name": "Python 2",
   "language": "python",
   "name": "python2"
  },
  "language_info": {
   "codemirror_mode": {
    "name": "ipython",
    "version": 2
   },
   "file_extension": ".py",
   "mimetype": "text/x-python",
   "name": "python",
   "nbconvert_exporter": "python",
   "pygments_lexer": "ipython2",
   "version": "2.7.13"
  }
 },
 "nbformat": 4,
 "nbformat_minor": 0
}
